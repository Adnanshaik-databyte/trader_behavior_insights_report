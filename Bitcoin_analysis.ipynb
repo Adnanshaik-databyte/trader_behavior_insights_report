{
 "cells": [
  {
   "cell_type": "code",
   "execution_count": 3,
   "id": "2ee57a2a",
   "metadata": {},
   "outputs": [],
   "source": [
    "import pandas as pd\n"
   ]
  },
  {
   "cell_type": "markdown",
   "id": "4b77514e",
   "metadata": {},
   "source": [
    "**loading dataset into dataframe**"
   ]
  },
  {
   "cell_type": "code",
   "execution_count": 4,
   "id": "33767497",
   "metadata": {},
   "outputs": [],
   "source": [
    "trades = pd.read_csv('historical_data.csv')"
   ]
  },
  {
   "cell_type": "code",
   "execution_count": 5,
   "id": "98487b44",
   "metadata": {},
   "outputs": [
    {
     "data": {
      "text/plain": [
       "Index(['Account', 'Coin', 'Execution Price', 'Size Tokens', 'Size USD', 'Side',\n",
       "       'Timestamp IST', 'Start Position', 'Direction', 'Closed PnL',\n",
       "       'Transaction Hash', 'Order ID', 'Crossed', 'Fee', 'Trade ID',\n",
       "       'Timestamp'],\n",
       "      dtype='object')"
      ]
     },
     "execution_count": 5,
     "metadata": {},
     "output_type": "execute_result"
    }
   ],
   "source": [
    "trades.columns"
   ]
  },
  {
   "cell_type": "markdown",
   "id": "8a97226a",
   "metadata": {},
   "source": [
    "**understanding the info in dataframes**"
   ]
  },
  {
   "cell_type": "code",
   "execution_count": 6,
   "id": "4e9bb42b",
   "metadata": {},
   "outputs": [
    {
     "name": "stdout",
     "output_type": "stream",
     "text": [
      "<class 'pandas.core.frame.DataFrame'>\n",
      "RangeIndex: 211224 entries, 0 to 211223\n",
      "Data columns (total 16 columns):\n",
      " #   Column            Non-Null Count   Dtype  \n",
      "---  ------            --------------   -----  \n",
      " 0   Account           211224 non-null  object \n",
      " 1   Coin              211224 non-null  object \n",
      " 2   Execution Price   211224 non-null  float64\n",
      " 3   Size Tokens       211224 non-null  float64\n",
      " 4   Size USD          211224 non-null  float64\n",
      " 5   Side              211224 non-null  object \n",
      " 6   Timestamp IST     211224 non-null  object \n",
      " 7   Start Position    211224 non-null  float64\n",
      " 8   Direction         211224 non-null  object \n",
      " 9   Closed PnL        211224 non-null  float64\n",
      " 10  Transaction Hash  211224 non-null  object \n",
      " 11  Order ID          211224 non-null  int64  \n",
      " 12  Crossed           211224 non-null  bool   \n",
      " 13  Fee               211224 non-null  float64\n",
      " 14  Trade ID          211224 non-null  float64\n",
      " 15  Timestamp         211224 non-null  float64\n",
      "dtypes: bool(1), float64(8), int64(1), object(6)\n",
      "memory usage: 24.4+ MB\n"
     ]
    }
   ],
   "source": [
    "trades.info()"
   ]
  },
  {
   "cell_type": "code",
   "execution_count": 7,
   "id": "2c9a79ec",
   "metadata": {},
   "outputs": [
    {
     "data": {
      "text/html": [
       "<div>\n",
       "<style scoped>\n",
       "    .dataframe tbody tr th:only-of-type {\n",
       "        vertical-align: middle;\n",
       "    }\n",
       "\n",
       "    .dataframe tbody tr th {\n",
       "        vertical-align: top;\n",
       "    }\n",
       "\n",
       "    .dataframe thead th {\n",
       "        text-align: right;\n",
       "    }\n",
       "</style>\n",
       "<table border=\"1\" class=\"dataframe\">\n",
       "  <thead>\n",
       "    <tr style=\"text-align: right;\">\n",
       "      <th></th>\n",
       "      <th>Execution Price</th>\n",
       "      <th>Size Tokens</th>\n",
       "      <th>Size USD</th>\n",
       "      <th>Start Position</th>\n",
       "      <th>Closed PnL</th>\n",
       "      <th>Order ID</th>\n",
       "      <th>Fee</th>\n",
       "      <th>Trade ID</th>\n",
       "      <th>Timestamp</th>\n",
       "    </tr>\n",
       "  </thead>\n",
       "  <tbody>\n",
       "    <tr>\n",
       "      <th>count</th>\n",
       "      <td>211224.000000</td>\n",
       "      <td>2.112240e+05</td>\n",
       "      <td>2.112240e+05</td>\n",
       "      <td>2.112240e+05</td>\n",
       "      <td>211224.000000</td>\n",
       "      <td>2.112240e+05</td>\n",
       "      <td>211224.000000</td>\n",
       "      <td>2.112240e+05</td>\n",
       "      <td>2.112240e+05</td>\n",
       "    </tr>\n",
       "    <tr>\n",
       "      <th>mean</th>\n",
       "      <td>11414.723350</td>\n",
       "      <td>4.623365e+03</td>\n",
       "      <td>5.639451e+03</td>\n",
       "      <td>-2.994625e+04</td>\n",
       "      <td>48.749001</td>\n",
       "      <td>6.965388e+10</td>\n",
       "      <td>1.163967</td>\n",
       "      <td>5.628549e+14</td>\n",
       "      <td>1.737744e+12</td>\n",
       "    </tr>\n",
       "    <tr>\n",
       "      <th>std</th>\n",
       "      <td>29447.654868</td>\n",
       "      <td>1.042729e+05</td>\n",
       "      <td>3.657514e+04</td>\n",
       "      <td>6.738074e+05</td>\n",
       "      <td>919.164828</td>\n",
       "      <td>1.835753e+10</td>\n",
       "      <td>6.758854</td>\n",
       "      <td>3.257565e+14</td>\n",
       "      <td>8.689920e+09</td>\n",
       "    </tr>\n",
       "    <tr>\n",
       "      <th>min</th>\n",
       "      <td>0.000005</td>\n",
       "      <td>8.740000e-07</td>\n",
       "      <td>0.000000e+00</td>\n",
       "      <td>-1.433463e+07</td>\n",
       "      <td>-117990.104100</td>\n",
       "      <td>1.732711e+08</td>\n",
       "      <td>-1.175712</td>\n",
       "      <td>0.000000e+00</td>\n",
       "      <td>1.680000e+12</td>\n",
       "    </tr>\n",
       "    <tr>\n",
       "      <th>25%</th>\n",
       "      <td>4.854700</td>\n",
       "      <td>2.940000e+00</td>\n",
       "      <td>1.937900e+02</td>\n",
       "      <td>-3.762311e+02</td>\n",
       "      <td>0.000000</td>\n",
       "      <td>5.983853e+10</td>\n",
       "      <td>0.016121</td>\n",
       "      <td>2.810000e+14</td>\n",
       "      <td>1.740000e+12</td>\n",
       "    </tr>\n",
       "    <tr>\n",
       "      <th>50%</th>\n",
       "      <td>18.280000</td>\n",
       "      <td>3.200000e+01</td>\n",
       "      <td>5.970450e+02</td>\n",
       "      <td>8.472793e+01</td>\n",
       "      <td>0.000000</td>\n",
       "      <td>7.442939e+10</td>\n",
       "      <td>0.089578</td>\n",
       "      <td>5.620000e+14</td>\n",
       "      <td>1.740000e+12</td>\n",
       "    </tr>\n",
       "    <tr>\n",
       "      <th>75%</th>\n",
       "      <td>101.580000</td>\n",
       "      <td>1.879025e+02</td>\n",
       "      <td>2.058960e+03</td>\n",
       "      <td>9.337278e+03</td>\n",
       "      <td>5.792797</td>\n",
       "      <td>8.335543e+10</td>\n",
       "      <td>0.393811</td>\n",
       "      <td>8.460000e+14</td>\n",
       "      <td>1.740000e+12</td>\n",
       "    </tr>\n",
       "    <tr>\n",
       "      <th>max</th>\n",
       "      <td>109004.000000</td>\n",
       "      <td>1.582244e+07</td>\n",
       "      <td>3.921431e+06</td>\n",
       "      <td>3.050948e+07</td>\n",
       "      <td>135329.090100</td>\n",
       "      <td>9.014923e+10</td>\n",
       "      <td>837.471593</td>\n",
       "      <td>1.130000e+15</td>\n",
       "      <td>1.750000e+12</td>\n",
       "    </tr>\n",
       "  </tbody>\n",
       "</table>\n",
       "</div>"
      ],
      "text/plain": [
       "       Execution Price   Size Tokens      Size USD  Start Position  \\\n",
       "count    211224.000000  2.112240e+05  2.112240e+05    2.112240e+05   \n",
       "mean      11414.723350  4.623365e+03  5.639451e+03   -2.994625e+04   \n",
       "std       29447.654868  1.042729e+05  3.657514e+04    6.738074e+05   \n",
       "min           0.000005  8.740000e-07  0.000000e+00   -1.433463e+07   \n",
       "25%           4.854700  2.940000e+00  1.937900e+02   -3.762311e+02   \n",
       "50%          18.280000  3.200000e+01  5.970450e+02    8.472793e+01   \n",
       "75%         101.580000  1.879025e+02  2.058960e+03    9.337278e+03   \n",
       "max      109004.000000  1.582244e+07  3.921431e+06    3.050948e+07   \n",
       "\n",
       "          Closed PnL      Order ID            Fee      Trade ID     Timestamp  \n",
       "count  211224.000000  2.112240e+05  211224.000000  2.112240e+05  2.112240e+05  \n",
       "mean       48.749001  6.965388e+10       1.163967  5.628549e+14  1.737744e+12  \n",
       "std       919.164828  1.835753e+10       6.758854  3.257565e+14  8.689920e+09  \n",
       "min   -117990.104100  1.732711e+08      -1.175712  0.000000e+00  1.680000e+12  \n",
       "25%         0.000000  5.983853e+10       0.016121  2.810000e+14  1.740000e+12  \n",
       "50%         0.000000  7.442939e+10       0.089578  5.620000e+14  1.740000e+12  \n",
       "75%         5.792797  8.335543e+10       0.393811  8.460000e+14  1.740000e+12  \n",
       "max    135329.090100  9.014923e+10     837.471593  1.130000e+15  1.750000e+12  "
      ]
     },
     "execution_count": 7,
     "metadata": {},
     "output_type": "execute_result"
    }
   ],
   "source": [
    "trades.describe()"
   ]
  },
  {
   "cell_type": "markdown",
   "id": "2bbbe529",
   "metadata": {},
   "source": [
    "**checking for null values**\n"
   ]
  },
  {
   "cell_type": "code",
   "execution_count": 8,
   "id": "9a49e9c6",
   "metadata": {},
   "outputs": [
    {
     "data": {
      "text/plain": [
       "Account             0\n",
       "Coin                0\n",
       "Execution Price     0\n",
       "Size Tokens         0\n",
       "Size USD            0\n",
       "Side                0\n",
       "Timestamp IST       0\n",
       "Start Position      0\n",
       "Direction           0\n",
       "Closed PnL          0\n",
       "Transaction Hash    0\n",
       "Order ID            0\n",
       "Crossed             0\n",
       "Fee                 0\n",
       "Trade ID            0\n",
       "Timestamp           0\n",
       "dtype: int64"
      ]
     },
     "execution_count": 8,
     "metadata": {},
     "output_type": "execute_result"
    }
   ],
   "source": [
    "trades.isna().sum()"
   ]
  },
  {
   "cell_type": "markdown",
   "id": "5006b746",
   "metadata": {},
   "source": [
    "**Getting the first rows**"
   ]
  },
  {
   "cell_type": "code",
   "execution_count": 9,
   "id": "4ed23131",
   "metadata": {},
   "outputs": [
    {
     "data": {
      "text/html": [
       "<div>\n",
       "<style scoped>\n",
       "    .dataframe tbody tr th:only-of-type {\n",
       "        vertical-align: middle;\n",
       "    }\n",
       "\n",
       "    .dataframe tbody tr th {\n",
       "        vertical-align: top;\n",
       "    }\n",
       "\n",
       "    .dataframe thead th {\n",
       "        text-align: right;\n",
       "    }\n",
       "</style>\n",
       "<table border=\"1\" class=\"dataframe\">\n",
       "  <thead>\n",
       "    <tr style=\"text-align: right;\">\n",
       "      <th></th>\n",
       "      <th>Account</th>\n",
       "      <th>Coin</th>\n",
       "      <th>Execution Price</th>\n",
       "      <th>Size Tokens</th>\n",
       "      <th>Size USD</th>\n",
       "      <th>Side</th>\n",
       "      <th>Timestamp IST</th>\n",
       "      <th>Start Position</th>\n",
       "      <th>Direction</th>\n",
       "      <th>Closed PnL</th>\n",
       "      <th>Transaction Hash</th>\n",
       "      <th>Order ID</th>\n",
       "      <th>Crossed</th>\n",
       "      <th>Fee</th>\n",
       "      <th>Trade ID</th>\n",
       "      <th>Timestamp</th>\n",
       "    </tr>\n",
       "  </thead>\n",
       "  <tbody>\n",
       "    <tr>\n",
       "      <th>0</th>\n",
       "      <td>0xae5eacaf9c6b9111fd53034a602c192a04e082ed</td>\n",
       "      <td>@107</td>\n",
       "      <td>7.9769</td>\n",
       "      <td>986.87</td>\n",
       "      <td>7872.16</td>\n",
       "      <td>BUY</td>\n",
       "      <td>02-12-2024 22:50</td>\n",
       "      <td>0.000000</td>\n",
       "      <td>Buy</td>\n",
       "      <td>0.0</td>\n",
       "      <td>0xec09451986a1874e3a980418412fcd0201f500c95bac...</td>\n",
       "      <td>52017706630</td>\n",
       "      <td>True</td>\n",
       "      <td>0.345404</td>\n",
       "      <td>8.950000e+14</td>\n",
       "      <td>1.730000e+12</td>\n",
       "    </tr>\n",
       "    <tr>\n",
       "      <th>1</th>\n",
       "      <td>0xae5eacaf9c6b9111fd53034a602c192a04e082ed</td>\n",
       "      <td>@107</td>\n",
       "      <td>7.9800</td>\n",
       "      <td>16.00</td>\n",
       "      <td>127.68</td>\n",
       "      <td>BUY</td>\n",
       "      <td>02-12-2024 22:50</td>\n",
       "      <td>986.524596</td>\n",
       "      <td>Buy</td>\n",
       "      <td>0.0</td>\n",
       "      <td>0xec09451986a1874e3a980418412fcd0201f500c95bac...</td>\n",
       "      <td>52017706630</td>\n",
       "      <td>True</td>\n",
       "      <td>0.005600</td>\n",
       "      <td>4.430000e+14</td>\n",
       "      <td>1.730000e+12</td>\n",
       "    </tr>\n",
       "  </tbody>\n",
       "</table>\n",
       "</div>"
      ],
      "text/plain": [
       "                                      Account  Coin  Execution Price  \\\n",
       "0  0xae5eacaf9c6b9111fd53034a602c192a04e082ed  @107           7.9769   \n",
       "1  0xae5eacaf9c6b9111fd53034a602c192a04e082ed  @107           7.9800   \n",
       "\n",
       "   Size Tokens  Size USD Side     Timestamp IST  Start Position Direction  \\\n",
       "0       986.87   7872.16  BUY  02-12-2024 22:50        0.000000       Buy   \n",
       "1        16.00    127.68  BUY  02-12-2024 22:50      986.524596       Buy   \n",
       "\n",
       "   Closed PnL                                   Transaction Hash     Order ID  \\\n",
       "0         0.0  0xec09451986a1874e3a980418412fcd0201f500c95bac...  52017706630   \n",
       "1         0.0  0xec09451986a1874e3a980418412fcd0201f500c95bac...  52017706630   \n",
       "\n",
       "   Crossed       Fee      Trade ID     Timestamp  \n",
       "0     True  0.345404  8.950000e+14  1.730000e+12  \n",
       "1     True  0.005600  4.430000e+14  1.730000e+12  "
      ]
     },
     "execution_count": 9,
     "metadata": {},
     "output_type": "execute_result"
    }
   ],
   "source": [
    "trades.head(2)"
   ]
  },
  {
   "cell_type": "markdown",
   "id": "4f62dfcc",
   "metadata": {},
   "source": [
    "**to get traders behaviour we need aggregate the data based on timestamp**"
   ]
  },
  {
   "cell_type": "code",
   "execution_count": 10,
   "id": "85ebdfcd",
   "metadata": {},
   "outputs": [],
   "source": [
    "trades['Timestamp IST'] = pd.to_datetime(trades['Timestamp IST'], format='%d-%m-%Y %H:%M')"
   ]
  },
  {
   "cell_type": "markdown",
   "id": "32b9566a",
   "metadata": {},
   "source": [
    "**extracting the date from timestamp that was corrected earlier**"
   ]
  },
  {
   "cell_type": "code",
   "execution_count": 11,
   "id": "32125e4a",
   "metadata": {},
   "outputs": [],
   "source": [
    "trades['trade_date'] = trades['Timestamp IST'].dt.date"
   ]
  },
  {
   "cell_type": "code",
   "execution_count": 12,
   "id": "abd90871",
   "metadata": {},
   "outputs": [
    {
     "data": {
      "text/plain": [
       "0         2024-12-02\n",
       "1         2024-12-02\n",
       "2         2024-12-02\n",
       "3         2024-12-02\n",
       "4         2024-12-02\n",
       "             ...    \n",
       "211219    2025-04-25\n",
       "211220    2025-04-25\n",
       "211221    2025-04-25\n",
       "211222    2025-04-25\n",
       "211223    2025-04-25\n",
       "Name: trade_date, Length: 211224, dtype: object"
      ]
     },
     "execution_count": 12,
     "metadata": {},
     "output_type": "execute_result"
    }
   ],
   "source": [
    "trades['trade_date']"
   ]
  },
  {
   "cell_type": "markdown",
   "id": "942f9a34",
   "metadata": {},
   "source": [
    "**Createing the dialy metrics for traders behavior**\n"
   ]
  },
  {
   "cell_type": "code",
   "execution_count": 13,
   "id": "954dba60",
   "metadata": {},
   "outputs": [],
   "source": [
    "daily = trades.groupby('trade_date').agg(\n",
    "    total_trades=('Account', 'count'),         # no of trades executed\n",
    "    total_volume_usd=('Size USD', 'sum'),      #total vol traded in USD\n",
    "    avg_execution_price=('Execution Price', 'mean'),  #avg execution price\n",
    "    total_pnl=('Closed PnL', 'sum'),           #total pnl by date\n",
    "    avg_pnl=('Closed PnL', 'mean'),            #avg pnl per trade\n",
    "    win_rate=('Closed PnL', lambda x: (x > 0).mean()) #win rate calculation\n",
    ").reset_index() "
   ]
  },
  {
   "cell_type": "code",
   "execution_count": 14,
   "id": "f4cf25f6",
   "metadata": {},
   "outputs": [
    {
     "data": {
      "text/html": [
       "<div>\n",
       "<style scoped>\n",
       "    .dataframe tbody tr th:only-of-type {\n",
       "        vertical-align: middle;\n",
       "    }\n",
       "\n",
       "    .dataframe tbody tr th {\n",
       "        vertical-align: top;\n",
       "    }\n",
       "\n",
       "    .dataframe thead th {\n",
       "        text-align: right;\n",
       "    }\n",
       "</style>\n",
       "<table border=\"1\" class=\"dataframe\">\n",
       "  <thead>\n",
       "    <tr style=\"text-align: right;\">\n",
       "      <th></th>\n",
       "      <th>trade_date</th>\n",
       "      <th>total_trades</th>\n",
       "      <th>total_volume_usd</th>\n",
       "      <th>avg_execution_price</th>\n",
       "      <th>total_pnl</th>\n",
       "      <th>avg_pnl</th>\n",
       "      <th>win_rate</th>\n",
       "    </tr>\n",
       "  </thead>\n",
       "  <tbody>\n",
       "    <tr>\n",
       "      <th>0</th>\n",
       "      <td>2023-05-01</td>\n",
       "      <td>3</td>\n",
       "      <td>477.00</td>\n",
       "      <td>1898.133333</td>\n",
       "      <td>0.0</td>\n",
       "      <td>0.0</td>\n",
       "      <td>0.0</td>\n",
       "    </tr>\n",
       "    <tr>\n",
       "      <th>1</th>\n",
       "      <td>2023-12-05</td>\n",
       "      <td>9</td>\n",
       "      <td>50005.83</td>\n",
       "      <td>11038.300000</td>\n",
       "      <td>0.0</td>\n",
       "      <td>0.0</td>\n",
       "      <td>0.0</td>\n",
       "    </tr>\n",
       "  </tbody>\n",
       "</table>\n",
       "</div>"
      ],
      "text/plain": [
       "   trade_date  total_trades  total_volume_usd  avg_execution_price  total_pnl  \\\n",
       "0  2023-05-01             3            477.00          1898.133333        0.0   \n",
       "1  2023-12-05             9          50005.83         11038.300000        0.0   \n",
       "\n",
       "   avg_pnl  win_rate  \n",
       "0      0.0       0.0  \n",
       "1      0.0       0.0  "
      ]
     },
     "execution_count": 14,
     "metadata": {},
     "output_type": "execute_result"
    }
   ],
   "source": [
    "daily.head(2)"
   ]
  },
  {
   "cell_type": "markdown",
   "id": "fe70301c",
   "metadata": {},
   "source": [
    "**Loading the sentiment data and merge**"
   ]
  },
  {
   "cell_type": "code",
   "execution_count": 15,
   "id": "61b9b038",
   "metadata": {},
   "outputs": [],
   "source": [
    "sentiment=pd.read_csv('fear_greed_index.csv')"
   ]
  },
  {
   "cell_type": "code",
   "execution_count": 16,
   "id": "fe3a7b9f",
   "metadata": {},
   "outputs": [
    {
     "data": {
      "text/html": [
       "<div>\n",
       "<style scoped>\n",
       "    .dataframe tbody tr th:only-of-type {\n",
       "        vertical-align: middle;\n",
       "    }\n",
       "\n",
       "    .dataframe tbody tr th {\n",
       "        vertical-align: top;\n",
       "    }\n",
       "\n",
       "    .dataframe thead th {\n",
       "        text-align: right;\n",
       "    }\n",
       "</style>\n",
       "<table border=\"1\" class=\"dataframe\">\n",
       "  <thead>\n",
       "    <tr style=\"text-align: right;\">\n",
       "      <th></th>\n",
       "      <th>timestamp</th>\n",
       "      <th>value</th>\n",
       "      <th>classification</th>\n",
       "      <th>date</th>\n",
       "    </tr>\n",
       "  </thead>\n",
       "  <tbody>\n",
       "    <tr>\n",
       "      <th>0</th>\n",
       "      <td>1517463000</td>\n",
       "      <td>30</td>\n",
       "      <td>Fear</td>\n",
       "      <td>2018-02-01</td>\n",
       "    </tr>\n",
       "    <tr>\n",
       "      <th>1</th>\n",
       "      <td>1517549400</td>\n",
       "      <td>15</td>\n",
       "      <td>Extreme Fear</td>\n",
       "      <td>2018-02-02</td>\n",
       "    </tr>\n",
       "  </tbody>\n",
       "</table>\n",
       "</div>"
      ],
      "text/plain": [
       "    timestamp  value classification        date\n",
       "0  1517463000     30           Fear  2018-02-01\n",
       "1  1517549400     15   Extreme Fear  2018-02-02"
      ]
     },
     "execution_count": 16,
     "metadata": {},
     "output_type": "execute_result"
    }
   ],
   "source": [
    "sentiment.head(2)"
   ]
  },
  {
   "cell_type": "markdown",
   "id": "f4700a3c",
   "metadata": {},
   "source": [
    "**setting up the cols[date] format same as historical_data.csv**"
   ]
  },
  {
   "cell_type": "code",
   "execution_count": 17,
   "id": "81da5b99",
   "metadata": {},
   "outputs": [],
   "source": [
    "sentiment['date'] = pd.to_datetime(sentiment['date'], errors='coerce').dt.date"
   ]
  },
  {
   "cell_type": "code",
   "execution_count": 18,
   "id": "e430dd6f",
   "metadata": {},
   "outputs": [
    {
     "data": {
      "text/html": [
       "<div>\n",
       "<style scoped>\n",
       "    .dataframe tbody tr th:only-of-type {\n",
       "        vertical-align: middle;\n",
       "    }\n",
       "\n",
       "    .dataframe tbody tr th {\n",
       "        vertical-align: top;\n",
       "    }\n",
       "\n",
       "    .dataframe thead th {\n",
       "        text-align: right;\n",
       "    }\n",
       "</style>\n",
       "<table border=\"1\" class=\"dataframe\">\n",
       "  <thead>\n",
       "    <tr style=\"text-align: right;\">\n",
       "      <th></th>\n",
       "      <th>timestamp</th>\n",
       "      <th>value</th>\n",
       "      <th>classification</th>\n",
       "      <th>date</th>\n",
       "    </tr>\n",
       "  </thead>\n",
       "  <tbody>\n",
       "    <tr>\n",
       "      <th>0</th>\n",
       "      <td>1517463000</td>\n",
       "      <td>30</td>\n",
       "      <td>Fear</td>\n",
       "      <td>2018-02-01</td>\n",
       "    </tr>\n",
       "    <tr>\n",
       "      <th>1</th>\n",
       "      <td>1517549400</td>\n",
       "      <td>15</td>\n",
       "      <td>Extreme Fear</td>\n",
       "      <td>2018-02-02</td>\n",
       "    </tr>\n",
       "  </tbody>\n",
       "</table>\n",
       "</div>"
      ],
      "text/plain": [
       "    timestamp  value classification        date\n",
       "0  1517463000     30           Fear  2018-02-01\n",
       "1  1517549400     15   Extreme Fear  2018-02-02"
      ]
     },
     "execution_count": 18,
     "metadata": {},
     "output_type": "execute_result"
    }
   ],
   "source": [
    "sentiment.head(2)"
   ]
  },
  {
   "cell_type": "markdown",
   "id": "ff695755",
   "metadata": {},
   "source": [
    "**now mergin both dataframes of daily metrics and then sentiment**"
   ]
  },
  {
   "cell_type": "code",
   "execution_count": 19,
   "id": "8dd73698",
   "metadata": {},
   "outputs": [],
   "source": [
    "merged=pd.merge(daily,\n",
    "                sentiment[['date','classification']],\n",
    "                left_on='trade_date',\n",
    "                right_on='date',\n",
    "                how='left') "
   ]
  },
  {
   "cell_type": "code",
   "execution_count": 20,
   "id": "3e1c73a2",
   "metadata": {},
   "outputs": [
    {
     "name": "stdout",
     "output_type": "stream",
     "text": [
      "Index(['timestamp', 'value', 'classification', 'date'], dtype='object')\n"
     ]
    }
   ],
   "source": [
    "print(sentiment.columns)"
   ]
  },
  {
   "cell_type": "code",
   "execution_count": 21,
   "id": "56467a63",
   "metadata": {},
   "outputs": [
    {
     "data": {
      "text/html": [
       "<div>\n",
       "<style scoped>\n",
       "    .dataframe tbody tr th:only-of-type {\n",
       "        vertical-align: middle;\n",
       "    }\n",
       "\n",
       "    .dataframe tbody tr th {\n",
       "        vertical-align: top;\n",
       "    }\n",
       "\n",
       "    .dataframe thead th {\n",
       "        text-align: right;\n",
       "    }\n",
       "</style>\n",
       "<table border=\"1\" class=\"dataframe\">\n",
       "  <thead>\n",
       "    <tr style=\"text-align: right;\">\n",
       "      <th></th>\n",
       "      <th>trade_date</th>\n",
       "      <th>total_trades</th>\n",
       "      <th>total_volume_usd</th>\n",
       "      <th>avg_execution_price</th>\n",
       "      <th>total_pnl</th>\n",
       "      <th>avg_pnl</th>\n",
       "      <th>win_rate</th>\n",
       "      <th>date</th>\n",
       "      <th>classification</th>\n",
       "    </tr>\n",
       "  </thead>\n",
       "  <tbody>\n",
       "    <tr>\n",
       "      <th>0</th>\n",
       "      <td>2023-05-01</td>\n",
       "      <td>3</td>\n",
       "      <td>477.00</td>\n",
       "      <td>1898.133333</td>\n",
       "      <td>0.000000</td>\n",
       "      <td>0.000000</td>\n",
       "      <td>0.000000</td>\n",
       "      <td>2023-05-01</td>\n",
       "      <td>Greed</td>\n",
       "    </tr>\n",
       "    <tr>\n",
       "      <th>1</th>\n",
       "      <td>2023-12-05</td>\n",
       "      <td>9</td>\n",
       "      <td>50005.83</td>\n",
       "      <td>11038.300000</td>\n",
       "      <td>0.000000</td>\n",
       "      <td>0.000000</td>\n",
       "      <td>0.000000</td>\n",
       "      <td>2023-12-05</td>\n",
       "      <td>Extreme Greed</td>\n",
       "    </tr>\n",
       "    <tr>\n",
       "      <th>2</th>\n",
       "      <td>2023-12-14</td>\n",
       "      <td>11</td>\n",
       "      <td>113203.35</td>\n",
       "      <td>8031.868818</td>\n",
       "      <td>-205.434737</td>\n",
       "      <td>-18.675885</td>\n",
       "      <td>0.363636</td>\n",
       "      <td>2023-12-14</td>\n",
       "      <td>Greed</td>\n",
       "    </tr>\n",
       "    <tr>\n",
       "      <th>3</th>\n",
       "      <td>2023-12-15</td>\n",
       "      <td>2</td>\n",
       "      <td>10609.95</td>\n",
       "      <td>2.982000</td>\n",
       "      <td>-24.632034</td>\n",
       "      <td>-12.316017</td>\n",
       "      <td>0.000000</td>\n",
       "      <td>2023-12-15</td>\n",
       "      <td>Greed</td>\n",
       "    </tr>\n",
       "    <tr>\n",
       "      <th>4</th>\n",
       "      <td>2023-12-16</td>\n",
       "      <td>3</td>\n",
       "      <td>15348.77</td>\n",
       "      <td>0.384707</td>\n",
       "      <td>0.000000</td>\n",
       "      <td>0.000000</td>\n",
       "      <td>0.000000</td>\n",
       "      <td>2023-12-16</td>\n",
       "      <td>Greed</td>\n",
       "    </tr>\n",
       "  </tbody>\n",
       "</table>\n",
       "</div>"
      ],
      "text/plain": [
       "   trade_date  total_trades  total_volume_usd  avg_execution_price  \\\n",
       "0  2023-05-01             3            477.00          1898.133333   \n",
       "1  2023-12-05             9          50005.83         11038.300000   \n",
       "2  2023-12-14            11         113203.35          8031.868818   \n",
       "3  2023-12-15             2          10609.95             2.982000   \n",
       "4  2023-12-16             3          15348.77             0.384707   \n",
       "\n",
       "    total_pnl    avg_pnl  win_rate        date classification  \n",
       "0    0.000000   0.000000  0.000000  2023-05-01          Greed  \n",
       "1    0.000000   0.000000  0.000000  2023-12-05  Extreme Greed  \n",
       "2 -205.434737 -18.675885  0.363636  2023-12-14          Greed  \n",
       "3  -24.632034 -12.316017  0.000000  2023-12-15          Greed  \n",
       "4    0.000000   0.000000  0.000000  2023-12-16          Greed  "
      ]
     },
     "execution_count": 21,
     "metadata": {},
     "output_type": "execute_result"
    }
   ],
   "source": [
    "merged.head()"
   ]
  },
  {
   "cell_type": "markdown",
   "id": "1eaaacab",
   "metadata": {},
   "source": [
    "**Insights** **Visualisation**"
   ]
  },
  {
   "cell_type": "markdown",
   "id": "5541de1a",
   "metadata": {},
   "source": [
    "**Determine whether market sentiment affects trader profitability**"
   ]
  },
  {
   "cell_type": "code",
   "execution_count": 23,
   "id": "200ea692",
   "metadata": {},
   "outputs": [
    {
     "name": "stdout",
     "output_type": "stream",
     "text": [
      "  classification    avg_pnl\n",
      "0   Extreme Fear  38.433903\n",
      "1  Extreme Greed  56.736108\n",
      "2           Fear  31.276567\n",
      "3          Greed  39.412175\n",
      "4        Neutral  63.820699\n"
     ]
    }
   ],
   "source": [
    "import pandas as pd\n",
    "import seaborn as sns\n",
    "import matplotlib.pyplot as plt\n",
    "\n",
    "pnl_by_sentiment = merged.groupby('classification')['avg_pnl'].mean().reset_index()\n",
    "print(pnl_by_sentiment)"
   ]
  },
  {
   "cell_type": "markdown",
   "id": "5b882da2",
   "metadata": {},
   "source": [
    "**visualising average profit and loss per trade**"
   ]
  },
  {
   "cell_type": "code",
   "execution_count": 25,
   "id": "82e30b8a",
   "metadata": {},
   "outputs": [
    {
     "name": "stderr",
     "output_type": "stream",
     "text": [
      "C:\\Users\\hp\\AppData\\Local\\Temp\\ipykernel_24332\\1581211609.py:2: FutureWarning: \n",
      "\n",
      "Passing `palette` without assigning `hue` is deprecated and will be removed in v0.14.0. Assign the `x` variable to `hue` and set `legend=False` for the same effect.\n",
      "\n",
      "  sns.barplot(data=pnl_by_sentiment, x='classification', y='avg_pnl', palette='coolwarm')\n"
     ]
    },
    {
     "data": {
      "image/png": "[encoded data removed]",
      "text/plain": [
       "<Figure size 600x400 with 1 Axes>"
      ]
     },
     "metadata": {},
     "output_type": "display_data"
    }
   ],
   "source": [
    "plt.figure(figsize=(6,4))\n",
    "sns.barplot(data=pnl_by_sentiment, x='classification', y='avg_pnl', palette='coolwarm')\n",
    "plt.title('Average PnL per Trade vs Market Sentiment')\n",
    "plt.ylabel('Average PnL')\n",
    "plt.xlabel('Market Sentiment')\n",
    "plt.show()"
   ]
  },
  {
   "cell_type": "markdown",
   "id": "de05a062",
   "metadata": {},
   "source": [
    "**Do traders win more trades when fear or greed**"
   ]
  },
  {
   "cell_type": "code",
   "execution_count": null,
   "id": "42c4f870",
   "metadata": {},
   "outputs": [],
   "source": [
    "\n",
    "merged['is_profitable_day'] = merged['total_pnl'] > 0\n",
    "\n",
    "\n",
    "profitability = (\n",
    "    merged.groupby('classification')['is_profitable_day']\n",
    "    .mean()\n",
    "    .reset_index()\n",
    "    .rename(columns={'is_profitable_day': 'profitability_rate'})\n",
    ")"
   ]
  },
  {
   "cell_type": "code",
   "execution_count": 29,
   "id": "736af8cf",
   "metadata": {},
   "outputs": [
    {
     "name": "stdout",
     "output_type": "stream",
     "text": [
      "  classification  profitability_rate\n",
      "0   Extreme Fear           64.285714\n",
      "1  Extreme Greed           87.719298\n",
      "2           Fear           73.626374\n",
      "3          Greed           72.538860\n",
      "4        Neutral           67.164179\n"
     ]
    }
   ],
   "source": [
    "profitability['profitability_rate'] = profitability['profitability_rate'] * 100\n",
    "\n",
    "print(profitability)"
   ]
  },
  {
   "cell_type": "code",
   "execution_count": 30,
   "id": "d176699c",
   "metadata": {},
   "outputs": [
    {
     "data": {
      "image/png": "[encoded data removed]",
      "text/plain": [
       "<Figure size 640x480 with 1 Axes>"
      ]
     },
     "metadata": {},
     "output_type": "display_data"
    }
   ],
   "source": [
    "\n",
    "plt.bar(profitability['classification'], profitability['profitability_rate'], color=['red','green'])\n",
    "plt.title(\"Trader Profitability vs Market Sentiment\")\n",
    "plt.ylabel(\"Profitability Rate (%)\")\n",
    "plt.xlabel(\"Market Sentiment\")\n",
    "plt.show()\n"
   ]
  },
  {
   "cell_type": "markdown",
   "id": "2cf04571",
   "metadata": {},
   "source": [
    "**See if traders trade more aggressively (higher volume) during Greed days or stay cautious during Fear.**"
   ]
  },
  {
   "cell_type": "code",
   "execution_count": 33,
   "id": "25448bfc",
   "metadata": {},
   "outputs": [
    {
     "name": "stdout",
     "output_type": "stream",
     "text": [
      "  classification  avg_daily_volume_usd  total_volume_usd\n",
      "0   Extreme Fear          8.177447e+06      1.144843e+08\n",
      "1  Extreme Greed          1.091800e+06      1.244652e+08\n",
      "2           Fear          5.311261e+06      4.833248e+08\n",
      "3          Greed          1.495246e+06      2.885825e+08\n",
      "4        Neutral          2.690180e+06      1.802421e+08\n"
     ]
    }
   ],
   "source": [
    "volume_sentiment = (\n",
    "    merged.groupby('classification')\n",
    "    .agg(\n",
    "        avg_daily_volume_usd=('total_volume_usd', 'mean'),\n",
    "        total_volume_usd=('total_volume_usd', 'sum')\n",
    "    )\n",
    "    .reset_index()\n",
    ")\n",
    "print(volume_sentiment)"
   ]
  },
  {
   "cell_type": "code",
   "execution_count": 32,
   "id": "e6905173",
   "metadata": {},
   "outputs": [
    {
     "data": {
      "image/png": "[encoded data removed]",
      "text/plain": [
       "<Figure size 640x480 with 1 Axes>"
      ]
     },
     "metadata": {},
     "output_type": "display_data"
    }
   ],
   "source": [
    "plt.bar(volume_sentiment['classification'], volume_sentiment['avg_daily_volume_usd'], color=['red','green'])\n",
    "plt.title(\"Average Trading Volume vs Market Sentiment\", fontsize=14)\n",
    "plt.ylabel(\"Average Daily Volume (USD)\")\n",
    "plt.xlabel(\"Market Sentiment\")\n",
    "plt.grid(axis='y', linestyle='--', alpha=0.6)\n",
    "plt.show()"
   ]
  },
  {
   "cell_type": "markdown",
   "id": "4dfeb30b",
   "metadata": {},
   "source": [
    "**To see if traders take risk in greedy markets**"
   ]
  },
  {
   "cell_type": "code",
   "execution_count": 34,
   "id": "a852feca",
   "metadata": {},
   "outputs": [
    {
     "name": "stdout",
     "output_type": "stream",
     "text": [
      "  classification  avg_trade_size_usd\n",
      "0   Extreme Fear        8.177447e+06\n",
      "1  Extreme Greed        1.091800e+06\n",
      "2           Fear        5.311261e+06\n",
      "3          Greed        1.495246e+06\n",
      "4        Neutral        2.690180e+06\n"
     ]
    }
   ],
   "source": [
    "risk_sentiment = (\n",
    "    merged.groupby('classification')['total_volume_usd']\n",
    "    .mean()\n",
    "    .reset_index()\n",
    "    .rename(columns={'total_volume_usd': 'avg_trade_size_usd'})\n",
    ")\n",
    "\n",
    "print(risk_sentiment)"
   ]
  },
  {
   "cell_type": "code",
   "execution_count": null,
   "id": "fd841c35",
   "metadata": {},
   "outputs": [],
   "source": [
    "plt.bar(risk_sentiment['classification'], risk_sentiment['avg_trade_size_usd'], color=['red','green'])\n",
    "plt.title(\"Average Trade Size  vs Market Sentiment\", fontsize=14)\n",
    "plt.ylabel(\"Average Trade Size (USD)\")\n",
    "plt.xlabel(\"Market Sentiment\")\n",
    "plt.grid(axis='y', linestyle='--', alpha=0.6)\n",
    "plt.show()"
   ]
  },
  {
   "cell_type": "markdown",
   "id": "124761b7",
   "metadata": {},
   "source": [
    "**Profitability over time**"
   ]
  },
  {
   "cell_type": "code",
   "execution_count": 38,
   "id": "cb80ebee",
   "metadata": {},
   "outputs": [
    {
     "data": {
      "image/png": "[encoded data removed]",
      "text/plain": [
       "<Figure size 1000x500 with 1 Axes>"
      ]
     },
     "metadata": {},
     "output_type": "display_data"
    }
   ],
   "source": [
    "merged_sorted = merged.sort_values('trade_date')\n",
    "\n",
    "plt.figure(figsize=(10,5))\n",
    "plt.plot(merged_sorted['trade_date'], merged_sorted['total_pnl'], label='Total PnL', linewidth=2)\n",
    "plt.title(\"Trader Profitability Over Time\", fontsize=14)\n",
    "plt.xlabel(\"Date\")\n",
    "plt.ylabel(\"Total PnL (USD)\")\n",
    "plt.legend()\n",
    "plt.grid(alpha=0.6)\n",
    "plt.show()"
   ]
  },
  {
   "cell_type": "code",
   "execution_count": null,
   "id": "fa5b3572",
   "metadata": {},
   "outputs": [],
   "source": []
  }
 ],
 "metadata": {
  "kernelspec": {
   "display_name": "base",
   "language": "python",
   "name": "python3"
  },
  "language_info": {
   "codemirror_mode": {
    "name": "ipython",
    "version": 3
   },
   "file_extension": ".py",
   "mimetype": "text/x-python",
   "name": "python",
   "nbconvert_exporter": "python",
   "pygments_lexer": "ipython3",
   "version": "3.12.7"
  }
 },
 "nbformat": 4,
 "nbformat_minor": 5
}
